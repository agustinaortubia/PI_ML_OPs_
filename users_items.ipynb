{
 "cells": [
  {
   "cell_type": "code",
   "execution_count": 14,
   "metadata": {},
   "outputs": [
    {
     "name": "stdout",
     "output_type": "stream",
     "text": [
      "La codificación del archivo es: MacRoman\n"
     ]
    }
   ],
   "source": [
    "#AVERIGUAR CODIFICACiÓN \n",
    "\n",
    "import chardet\n",
    "with open('C:/Users/Susana y Juan/OneDrive/Escritorio/Henry/PI_ML_OPS/Archivos/australian_users_items.json', 'rb') as f:\n",
    "    result = chardet.detect(f.read())\n",
    "    encoding = result['encoding']\n",
    "\n",
    "print(f'La codificación del archivo es: {encoding}')\n"
   ]
  },
  {
   "cell_type": "code",
   "execution_count": 2,
   "metadata": {},
   "outputs": [],
   "source": [
    "#ABRIR ARCHIVO\n",
    "import pandas as pd\n",
    "import ast\n",
    "\n",
    "rows = []\n",
    "with open('C:/Users/Susana y Juan/OneDrive/Escritorio/Henry/PI_ML_OPS/Archivos/australian_users_items.json', encoding = 'MacRoman') as users_items:\n",
    "    for line in users_items.readlines():\n",
    "        rows.append(ast.literal_eval(line))\n",
    "        \n",
    "items_df1 = pd.DataFrame(rows)\n"
   ]
  },
  {
   "cell_type": "code",
   "execution_count": 3,
   "metadata": {},
   "outputs": [],
   "source": [
    "# ELIMINAR COLUMNA\n",
    "items_df1 = items_df1.drop('user_url', axis=1)"
   ]
  },
  {
   "cell_type": "code",
   "execution_count": 7,
   "metadata": {},
   "outputs": [],
   "source": [
    "#DESANIDAR UNA COLUMNA\n",
    "\n",
    "# 1.Crear una lista para almacenar los datos desanidados\n",
    "data_desanidada1 = []\n",
    "\n",
    "# 2.Iterar a través de las filas del DataFrame original\n",
    "for index, row in items_df1.iterrows():\n",
    "    user_id = row['user_id']\n",
    "    items = row['items']\n",
    "    \n",
    "    for i in items:\n",
    "        new_row = {\n",
    "            'item_id': i.get('item_id', ''),\n",
    "            'item_name': i.get('item_name', ''),\n",
    "            'playtime_forever': i.get('playtime_forever', ''),\n",
    "            'playtime_2weeks': i.get('playtime_2weeks', '')\n",
    "        }\n",
    "        data_desanidada1.append(new_row)\n",
    "\n",
    "# 3.rear un nuevo DataFrame con los datos desanidados\n",
    "item_desanidado_df = pd.DataFrame(data_desanidada1)"
   ]
  },
  {
   "cell_type": "code",
   "execution_count": 9,
   "metadata": {},
   "outputs": [],
   "source": [
    "# GUARDAR EN CSV\n",
    "item_desanidado_df.to_csv('user_items2.csv', index=False)  \n",
    "# El argumento index=False evita que se guarde el índice en el archivo"
   ]
  },
  {
   "cell_type": "code",
   "execution_count": 10,
   "metadata": {},
   "outputs": [],
   "source": [
    "# SE GUARDÓ EL RESTO DEL DATA FRAME POR LAS DUDAS \n",
    "items_df1.to_csv('user_items1.csv', index=False)  # El argumento index=False evita que se guarde el índice en el archivo"
   ]
  },
  {
   "cell_type": "code",
   "execution_count": 7,
   "metadata": {},
   "outputs": [],
   "source": [
    "# PARA VER LAS PRIMERAS 10 FILAS DEL DF\n",
    "items_df.head(10).to_csv('primeras_10_filas_items.csv', index=False)"
   ]
  }
 ],
 "metadata": {
  "kernelspec": {
   "display_name": "Python 3",
   "language": "python",
   "name": "python3"
  },
  "language_info": {
   "codemirror_mode": {
    "name": "ipython",
    "version": 3
   },
   "file_extension": ".py",
   "mimetype": "text/x-python",
   "name": "python",
   "nbconvert_exporter": "python",
   "pygments_lexer": "ipython3",
   "version": "3.10.11"
  },
  "orig_nbformat": 4
 },
 "nbformat": 4,
 "nbformat_minor": 2
}
