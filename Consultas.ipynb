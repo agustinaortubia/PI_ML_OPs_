{
 "cells": [
  {
   "cell_type": "code",
   "execution_count": 1,
   "metadata": {},
   "outputs": [],
   "source": [
    "import pandas as pd\n"
   ]
  },
  {
   "cell_type": "markdown",
   "metadata": {},
   "source": [
    "ITEMS 1"
   ]
  },
  {
   "cell_type": "code",
   "execution_count": 20,
   "metadata": {},
   "outputs": [
    {
     "name": "stdout",
     "output_type": "stream",
     "text": [
      "   item_id               Item_Name  Playtime_Forever\n",
      "0       10          Counter-Strike                 6\n",
      "1       30           Day of Defeat                 7\n",
      "2      300   Day of Defeat: Source              4733\n",
      "3      240  Counter-Strike: Source              1853\n",
      "4     3830             Psychonauts               333\n"
     ]
    }
   ],
   "source": [
    "import pyarrow.parquet as pq\n",
    "\n",
    "# Ruta al archivo Parquet en tu computadora\n",
    "file_path = 'C:/Users/Susana y Juan/OneDrive/Escritorio/Henry/PI_ML_OPS/Archivos/Parquet/df_items1.parquet'\n",
    "\n",
    "# Lee el archivo Parquet\n",
    "table1 = pq.read_table(file_path)\n",
    "\n",
    "# Convierte la tabla en un DataFrame de pandas\n",
    "df_items1 = table1.to_pandas()\n",
    "\n",
    "# Ahora puedes trabajar con el DataFrame df\n",
    "print(df_items1.head())\n"
   ]
  },
  {
   "cell_type": "code",
   "execution_count": 21,
   "metadata": {},
   "outputs": [],
   "source": [
    "# CAMBIAR NOMBRES DE LAS COLUMNAS\n",
    "nuevos_nombres = {\n",
    "    \"item_id\": \"Item_Id\",\n",
    "    \"item_name\": \"Item_Name\",\n",
    "    \"playtime_forever\": \"Playtime_Forever\",\n",
    "}\n",
    "\n",
    "# Utiliza el método rename para cambiar los nombres de las columnas\n",
    "df_items1 = df_items1.rename(columns=nuevos_nombres)"
   ]
  },
  {
   "cell_type": "code",
   "execution_count": 22,
   "metadata": {},
   "outputs": [
    {
     "data": {
      "text/html": [
       "<div>\n",
       "<style scoped>\n",
       "    .dataframe tbody tr th:only-of-type {\n",
       "        vertical-align: middle;\n",
       "    }\n",
       "\n",
       "    .dataframe tbody tr th {\n",
       "        vertical-align: top;\n",
       "    }\n",
       "\n",
       "    .dataframe thead th {\n",
       "        text-align: right;\n",
       "    }\n",
       "</style>\n",
       "<table border=\"1\" class=\"dataframe\">\n",
       "  <thead>\n",
       "    <tr style=\"text-align: right;\">\n",
       "      <th></th>\n",
       "      <th>Item_Id</th>\n",
       "      <th>Item_Name</th>\n",
       "      <th>Playtime_Forever</th>\n",
       "    </tr>\n",
       "  </thead>\n",
       "  <tbody>\n",
       "    <tr>\n",
       "      <th>0</th>\n",
       "      <td>10</td>\n",
       "      <td>Counter-Strike</td>\n",
       "      <td>6</td>\n",
       "    </tr>\n",
       "    <tr>\n",
       "      <th>1</th>\n",
       "      <td>30</td>\n",
       "      <td>Day of Defeat</td>\n",
       "      <td>7</td>\n",
       "    </tr>\n",
       "    <tr>\n",
       "      <th>2</th>\n",
       "      <td>300</td>\n",
       "      <td>Day of Defeat: Source</td>\n",
       "      <td>4733</td>\n",
       "    </tr>\n",
       "    <tr>\n",
       "      <th>3</th>\n",
       "      <td>240</td>\n",
       "      <td>Counter-Strike: Source</td>\n",
       "      <td>1853</td>\n",
       "    </tr>\n",
       "    <tr>\n",
       "      <th>4</th>\n",
       "      <td>3830</td>\n",
       "      <td>Psychonauts</td>\n",
       "      <td>333</td>\n",
       "    </tr>\n",
       "  </tbody>\n",
       "</table>\n",
       "</div>"
      ],
      "text/plain": [
       "   Item_Id               Item_Name  Playtime_Forever\n",
       "0       10          Counter-Strike                 6\n",
       "1       30           Day of Defeat                 7\n",
       "2      300   Day of Defeat: Source              4733\n",
       "3      240  Counter-Strike: Source              1853\n",
       "4     3830             Psychonauts               333"
      ]
     },
     "execution_count": 22,
     "metadata": {},
     "output_type": "execute_result"
    }
   ],
   "source": [
    "df_items1.head()"
   ]
  },
  {
   "cell_type": "markdown",
   "metadata": {},
   "source": [
    "df_1y2"
   ]
  },
  {
   "cell_type": "code",
   "execution_count": 6,
   "metadata": {},
   "outputs": [
    {
     "name": "stdout",
     "output_type": "stream",
     "text": [
      "             User_Id  Item_Id  Recommend  \\\n",
      "0  76561198055968900   327950       True   \n",
      "1           alyboxie    32340       True   \n",
      "2              FDAOP     9180       True   \n",
      "3  76561198074645000     9180      False   \n",
      "4  76561198091490600     9180       True   \n",
      "\n",
      "                                              Review  \\\n",
      "0  To be honest I really liked this game! It's re...   \n",
      "1  This is a beautiful game and a masterpiece in ...   \n",
      "2  Commander Keen. Many of us have played this ga...   \n",
      "3                                 it sucks balls.com   \n",
      "4                                          love this   \n",
      "\n",
      "                        Genres              App_Name Release_Date  \n",
      "0  ['Adventure', 'Simulation']  Sword of the Samurai   01/01/1989  \n",
      "1                ['Adventure']                 LOOM™   01/01/1990  \n",
      "2                   ['Action']        Commander Keen   14/12/1990  \n",
      "3                   ['Action']        Commander Keen   14/12/1990  \n",
      "4                   ['Action']        Commander Keen   14/12/1990  \n"
     ]
    }
   ],
   "source": [
    "import pyarrow.parquet as pq\n",
    "\n",
    "# Ruta al archivo Parquet en tu computadora\n",
    "file_path = 'C:/Users/Susana y Juan/OneDrive/Escritorio/Henry/PI_ML_OPS/Archivos/Parquet/df_1y2.parquet'\n",
    "\n",
    "# Lee el archivo Parquet\n",
    "table_1y2 = pq.read_table(file_path)\n",
    "\n",
    "# Convierte la tabla en un DataFrame de pandas\n",
    "df_1y2 = table_1y2.to_pandas()"
   ]
  },
  {
   "cell_type": "code",
   "execution_count": 44,
   "metadata": {},
   "outputs": [],
   "source": [
    "# Eliminar los corchetes de la columna 'Texto'\n",
    "df_1y2['Genres'] = df_1y2['Genres'].str.replace(r'\\[|\\]', '', regex=True)"
   ]
  },
  {
   "cell_type": "code",
   "execution_count": 46,
   "metadata": {},
   "outputs": [],
   "source": [
    "# Eliminar las comillas simples de la columna 'Texto' (las comillas simples están escapadas como \\' en el ejemplo)\n",
    "df_1y2['Genres'] = df_1y2['Genres'].str.replace(r\"\\'\", '', regex=True)"
   ]
  },
  {
   "cell_type": "code",
   "execution_count": 47,
   "metadata": {},
   "outputs": [
    {
     "data": {
      "text/html": [
       "<div>\n",
       "<style scoped>\n",
       "    .dataframe tbody tr th:only-of-type {\n",
       "        vertical-align: middle;\n",
       "    }\n",
       "\n",
       "    .dataframe tbody tr th {\n",
       "        vertical-align: top;\n",
       "    }\n",
       "\n",
       "    .dataframe thead th {\n",
       "        text-align: right;\n",
       "    }\n",
       "</style>\n",
       "<table border=\"1\" class=\"dataframe\">\n",
       "  <thead>\n",
       "    <tr style=\"text-align: right;\">\n",
       "      <th></th>\n",
       "      <th>User_Id</th>\n",
       "      <th>Item_Id</th>\n",
       "      <th>Recommend</th>\n",
       "      <th>Review</th>\n",
       "      <th>Genres</th>\n",
       "      <th>App_Name</th>\n",
       "      <th>Release_Date</th>\n",
       "    </tr>\n",
       "  </thead>\n",
       "  <tbody>\n",
       "    <tr>\n",
       "      <th>0</th>\n",
       "      <td>76561198055968900</td>\n",
       "      <td>327950</td>\n",
       "      <td>True</td>\n",
       "      <td>To be honest I really liked this game! It's re...</td>\n",
       "      <td>Adventure, Simulation</td>\n",
       "      <td>Sword of the Samurai</td>\n",
       "      <td>1989</td>\n",
       "    </tr>\n",
       "    <tr>\n",
       "      <th>1</th>\n",
       "      <td>alyboxie</td>\n",
       "      <td>32340</td>\n",
       "      <td>True</td>\n",
       "      <td>This is a beautiful game and a masterpiece in ...</td>\n",
       "      <td>Adventure</td>\n",
       "      <td>LOOM™</td>\n",
       "      <td>1990</td>\n",
       "    </tr>\n",
       "    <tr>\n",
       "      <th>2</th>\n",
       "      <td>FDAOP</td>\n",
       "      <td>9180</td>\n",
       "      <td>True</td>\n",
       "      <td>Commander Keen. Many of us have played this ga...</td>\n",
       "      <td>Action</td>\n",
       "      <td>Commander Keen</td>\n",
       "      <td>1990</td>\n",
       "    </tr>\n",
       "    <tr>\n",
       "      <th>3</th>\n",
       "      <td>76561198074645000</td>\n",
       "      <td>9180</td>\n",
       "      <td>False</td>\n",
       "      <td>it sucks balls.com</td>\n",
       "      <td>Action</td>\n",
       "      <td>Commander Keen</td>\n",
       "      <td>1990</td>\n",
       "    </tr>\n",
       "    <tr>\n",
       "      <th>4</th>\n",
       "      <td>76561198091490600</td>\n",
       "      <td>9180</td>\n",
       "      <td>True</td>\n",
       "      <td>love this</td>\n",
       "      <td>Action</td>\n",
       "      <td>Commander Keen</td>\n",
       "      <td>1990</td>\n",
       "    </tr>\n",
       "  </tbody>\n",
       "</table>\n",
       "</div>"
      ],
      "text/plain": [
       "             User_Id  Item_Id  Recommend  \\\n",
       "0  76561198055968900   327950       True   \n",
       "1           alyboxie    32340       True   \n",
       "2              FDAOP     9180       True   \n",
       "3  76561198074645000     9180      False   \n",
       "4  76561198091490600     9180       True   \n",
       "\n",
       "                                              Review                 Genres  \\\n",
       "0  To be honest I really liked this game! It's re...  Adventure, Simulation   \n",
       "1  This is a beautiful game and a masterpiece in ...              Adventure   \n",
       "2  Commander Keen. Many of us have played this ga...                 Action   \n",
       "3                                 it sucks balls.com                 Action   \n",
       "4                                          love this                 Action   \n",
       "\n",
       "               App_Name Release_Date  \n",
       "0  Sword of the Samurai         1989  \n",
       "1                 LOOM™         1990  \n",
       "2        Commander Keen         1990  \n",
       "3        Commander Keen         1990  \n",
       "4        Commander Keen         1990  "
      ]
     },
     "execution_count": 47,
     "metadata": {},
     "output_type": "execute_result"
    }
   ],
   "source": [
    "df_1y2.head()"
   ]
  },
  {
   "cell_type": "markdown",
   "metadata": {},
   "source": [
    "División de df_1y2"
   ]
  },
  {
   "cell_type": "code",
   "execution_count": 48,
   "metadata": {},
   "outputs": [],
   "source": [
    "import pandas as pd\n",
    "\n",
    "# Supongamos que tienes un DataFrame llamado df que deseas dividir en tres partes\n",
    "# El número total de filas en tu DataFrame\n",
    "total_filas = len(df_1y2)\n",
    "\n",
    "# Divide el DataFrame en tres partes aproximadamente iguales\n",
    "parte1 = df_1y2.iloc[:total_filas // 3]\n",
    "parte2 = df_1y2.iloc[total_filas // 3: 2 * (total_filas // 3)]\n",
    "parte3 = df_1y2.iloc[2 * (total_filas // 3):]\n",
    "\n",
    "# Ahora tienes tres DataFrames: parte1, parte2 y parte3, que contienen partes aproximadamente iguales de tu DataFrame original\n"
   ]
  },
  {
   "cell_type": "code",
   "execution_count": 38,
   "metadata": {},
   "outputs": [],
   "source": [
    "# Dividir la columna 'Fecha' en partes usando '/'\n",
    "df_1y2['Release_Date'] = df_1y2['Release_Date'].str.split('/').str[2]"
   ]
  },
  {
   "cell_type": "code",
   "execution_count": 49,
   "metadata": {},
   "outputs": [
    {
     "data": {
      "text/html": [
       "<div>\n",
       "<style scoped>\n",
       "    .dataframe tbody tr th:only-of-type {\n",
       "        vertical-align: middle;\n",
       "    }\n",
       "\n",
       "    .dataframe tbody tr th {\n",
       "        vertical-align: top;\n",
       "    }\n",
       "\n",
       "    .dataframe thead th {\n",
       "        text-align: right;\n",
       "    }\n",
       "</style>\n",
       "<table border=\"1\" class=\"dataframe\">\n",
       "  <thead>\n",
       "    <tr style=\"text-align: right;\">\n",
       "      <th></th>\n",
       "      <th>User_Id</th>\n",
       "      <th>Item_Id</th>\n",
       "      <th>Recommend</th>\n",
       "      <th>Review</th>\n",
       "      <th>Genres</th>\n",
       "      <th>App_Name</th>\n",
       "      <th>Release_Date</th>\n",
       "    </tr>\n",
       "  </thead>\n",
       "  <tbody>\n",
       "    <tr>\n",
       "      <th>0</th>\n",
       "      <td>76561198055968900</td>\n",
       "      <td>327950</td>\n",
       "      <td>True</td>\n",
       "      <td>To be honest I really liked this game! It's re...</td>\n",
       "      <td>Adventure, Simulation</td>\n",
       "      <td>Sword of the Samurai</td>\n",
       "      <td>1989</td>\n",
       "    </tr>\n",
       "    <tr>\n",
       "      <th>1</th>\n",
       "      <td>alyboxie</td>\n",
       "      <td>32340</td>\n",
       "      <td>True</td>\n",
       "      <td>This is a beautiful game and a masterpiece in ...</td>\n",
       "      <td>Adventure</td>\n",
       "      <td>LOOM™</td>\n",
       "      <td>1990</td>\n",
       "    </tr>\n",
       "    <tr>\n",
       "      <th>2</th>\n",
       "      <td>FDAOP</td>\n",
       "      <td>9180</td>\n",
       "      <td>True</td>\n",
       "      <td>Commander Keen. Many of us have played this ga...</td>\n",
       "      <td>Action</td>\n",
       "      <td>Commander Keen</td>\n",
       "      <td>1990</td>\n",
       "    </tr>\n",
       "    <tr>\n",
       "      <th>3</th>\n",
       "      <td>76561198074645000</td>\n",
       "      <td>9180</td>\n",
       "      <td>False</td>\n",
       "      <td>it sucks balls.com</td>\n",
       "      <td>Action</td>\n",
       "      <td>Commander Keen</td>\n",
       "      <td>1990</td>\n",
       "    </tr>\n",
       "    <tr>\n",
       "      <th>4</th>\n",
       "      <td>76561198091490600</td>\n",
       "      <td>9180</td>\n",
       "      <td>True</td>\n",
       "      <td>love this</td>\n",
       "      <td>Action</td>\n",
       "      <td>Commander Keen</td>\n",
       "      <td>1990</td>\n",
       "    </tr>\n",
       "  </tbody>\n",
       "</table>\n",
       "</div>"
      ],
      "text/plain": [
       "             User_Id  Item_Id  Recommend  \\\n",
       "0  76561198055968900   327950       True   \n",
       "1           alyboxie    32340       True   \n",
       "2              FDAOP     9180       True   \n",
       "3  76561198074645000     9180      False   \n",
       "4  76561198091490600     9180       True   \n",
       "\n",
       "                                              Review                 Genres  \\\n",
       "0  To be honest I really liked this game! It's re...  Adventure, Simulation   \n",
       "1  This is a beautiful game and a masterpiece in ...              Adventure   \n",
       "2  Commander Keen. Many of us have played this ga...                 Action   \n",
       "3                                 it sucks balls.com                 Action   \n",
       "4                                          love this                 Action   \n",
       "\n",
       "               App_Name Release_Date  \n",
       "0  Sword of the Samurai         1989  \n",
       "1                 LOOM™         1990  \n",
       "2        Commander Keen         1990  \n",
       "3        Commander Keen         1990  \n",
       "4        Commander Keen         1990  "
      ]
     },
     "execution_count": 49,
     "metadata": {},
     "output_type": "execute_result"
    }
   ],
   "source": [
    "parte1.head()"
   ]
  },
  {
   "cell_type": "markdown",
   "metadata": {},
   "source": [
    "Consulta 1 - Parte 2"
   ]
  },
  {
   "cell_type": "code",
   "execution_count": 50,
   "metadata": {},
   "outputs": [],
   "source": [
    "# Suponiendo que tienes dos DataFrames parte1 y df_items1\n",
    "\n",
    "# Selecciona las columnas que deseas de cada DataFrame\n",
    "parte1_subset = parte1[['Item_Id', 'Release_Date', 'Genres']]\n",
    "df_items1_subset = df_items1[['Item_Id', 'Playtime_Forever']]\n",
    "\n",
    "# Realiza la unión (merge) en base a la columna 'Item_Id'\n",
    "\n",
    "df_resultado = parte1_subset.merge(df_items1_subset, on='Item_Id', how='inner')\n",
    "\n",
    "# df_resultado ahora contendrá las columnas 'Item_Id', 'Release_Date', 'Genres' y 'Playtime_Forever'\n"
   ]
  },
  {
   "cell_type": "code",
   "execution_count": 51,
   "metadata": {},
   "outputs": [
    {
     "data": {
      "text/html": [
       "<div>\n",
       "<style scoped>\n",
       "    .dataframe tbody tr th:only-of-type {\n",
       "        vertical-align: middle;\n",
       "    }\n",
       "\n",
       "    .dataframe tbody tr th {\n",
       "        vertical-align: top;\n",
       "    }\n",
       "\n",
       "    .dataframe thead th {\n",
       "        text-align: right;\n",
       "    }\n",
       "</style>\n",
       "<table border=\"1\" class=\"dataframe\">\n",
       "  <thead>\n",
       "    <tr style=\"text-align: right;\">\n",
       "      <th></th>\n",
       "      <th>Item_Id</th>\n",
       "      <th>Release_Date</th>\n",
       "      <th>Genres</th>\n",
       "      <th>Playtime_Forever</th>\n",
       "    </tr>\n",
       "  </thead>\n",
       "  <tbody>\n",
       "    <tr>\n",
       "      <th>0</th>\n",
       "      <td>327950</td>\n",
       "      <td>1989</td>\n",
       "      <td>Adventure, Simulation</td>\n",
       "      <td>24</td>\n",
       "    </tr>\n",
       "    <tr>\n",
       "      <th>1</th>\n",
       "      <td>327950</td>\n",
       "      <td>1989</td>\n",
       "      <td>Adventure, Simulation</td>\n",
       "      <td>3880</td>\n",
       "    </tr>\n",
       "    <tr>\n",
       "      <th>2</th>\n",
       "      <td>327950</td>\n",
       "      <td>1989</td>\n",
       "      <td>Adventure, Simulation</td>\n",
       "      <td>13</td>\n",
       "    </tr>\n",
       "    <tr>\n",
       "      <th>3</th>\n",
       "      <td>327950</td>\n",
       "      <td>1989</td>\n",
       "      <td>Adventure, Simulation</td>\n",
       "      <td>6</td>\n",
       "    </tr>\n",
       "    <tr>\n",
       "      <th>4</th>\n",
       "      <td>327950</td>\n",
       "      <td>1989</td>\n",
       "      <td>Adventure, Simulation</td>\n",
       "      <td>3</td>\n",
       "    </tr>\n",
       "  </tbody>\n",
       "</table>\n",
       "</div>"
      ],
      "text/plain": [
       "   Item_Id Release_Date                 Genres  Playtime_Forever\n",
       "0   327950         1989  Adventure, Simulation                24\n",
       "1   327950         1989  Adventure, Simulation              3880\n",
       "2   327950         1989  Adventure, Simulation                13\n",
       "3   327950         1989  Adventure, Simulation                 6\n",
       "4   327950         1989  Adventure, Simulation                 3"
      ]
     },
     "execution_count": 51,
     "metadata": {},
     "output_type": "execute_result"
    }
   ],
   "source": [
    "df_resultado.tail()"
   ]
  },
  {
   "cell_type": "code",
   "execution_count": 52,
   "metadata": {},
   "outputs": [],
   "source": [
    "# GUARDAR EN CSV\n",
    "\n",
    "df_resultado.to_csv('df_consulta1_a.csv', index=False)  \n",
    "# El argumento index=False evita que se guarde el índice en el archivo"
   ]
  },
  {
   "cell_type": "markdown",
   "metadata": {},
   "source": [
    "Consulta 1 - Parte 2"
   ]
  },
  {
   "cell_type": "code",
   "execution_count": 53,
   "metadata": {},
   "outputs": [
    {
     "name": "stdout",
     "output_type": "stream",
     "text": [
      "         item_id                                     Item_Name  \\\n",
      "1095082   209650                Call of Duty: Advanced Warfare   \n",
      "1095083   209660  Call of Duty: Advanced Warfare - Multiplayer   \n",
      "1095084   346180                                        David.   \n",
      "1095085   346900                          AdVenture Capitalist   \n",
      "1095086   377160                                     Fallout 4   \n",
      "\n",
      "         Playtime_Forever  \n",
      "1095082               860  \n",
      "1095083              1440  \n",
      "1095084                 4  \n",
      "1095085                34  \n",
      "1095086              6198  \n"
     ]
    }
   ],
   "source": [
    "import pyarrow.parquet as pq\n",
    "\n",
    "# Ruta al archivo Parquet en tu computadora\n",
    "file_path = 'C:/Users/Susana y Juan/OneDrive/Escritorio/Henry/PI_ML_OPS/Archivos/Parquet/df_items2.parquet'\n",
    "\n",
    "# Lee el archivo Parquet\n",
    "table2 = pq.read_table(file_path)\n",
    "\n",
    "# Convierte la tabla en un DataFrame de pandas\n",
    "df_items2 = table2.to_pandas()"
   ]
  },
  {
   "cell_type": "code",
   "execution_count": 54,
   "metadata": {},
   "outputs": [],
   "source": [
    "# CAMBIAR NOMBRES DE LAS COLUMNAS\n",
    "nuevos_nombres = {\n",
    "    \"item_id\": \"Item_Id\",\n",
    "    \"item_name\": \"Item_Name\",\n",
    "    \"playtime_forever\": \"Playtime_Forever\",\n",
    "}\n",
    "\n",
    "# Utiliza el método rename para cambiar los nombres de las columnas\n",
    "df_items2 = df_items2.rename(columns=nuevos_nombres)"
   ]
  },
  {
   "cell_type": "code",
   "execution_count": 55,
   "metadata": {},
   "outputs": [
    {
     "data": {
      "text/html": [
       "<div>\n",
       "<style scoped>\n",
       "    .dataframe tbody tr th:only-of-type {\n",
       "        vertical-align: middle;\n",
       "    }\n",
       "\n",
       "    .dataframe tbody tr th {\n",
       "        vertical-align: top;\n",
       "    }\n",
       "\n",
       "    .dataframe thead th {\n",
       "        text-align: right;\n",
       "    }\n",
       "</style>\n",
       "<table border=\"1\" class=\"dataframe\">\n",
       "  <thead>\n",
       "    <tr style=\"text-align: right;\">\n",
       "      <th></th>\n",
       "      <th>Item_Id</th>\n",
       "      <th>Item_Name</th>\n",
       "      <th>Playtime_Forever</th>\n",
       "    </tr>\n",
       "  </thead>\n",
       "  <tbody>\n",
       "    <tr>\n",
       "      <th>1095082</th>\n",
       "      <td>209650</td>\n",
       "      <td>Call of Duty: Advanced Warfare</td>\n",
       "      <td>860</td>\n",
       "    </tr>\n",
       "    <tr>\n",
       "      <th>1095083</th>\n",
       "      <td>209660</td>\n",
       "      <td>Call of Duty: Advanced Warfare - Multiplayer</td>\n",
       "      <td>1440</td>\n",
       "    </tr>\n",
       "    <tr>\n",
       "      <th>1095084</th>\n",
       "      <td>346180</td>\n",
       "      <td>David.</td>\n",
       "      <td>4</td>\n",
       "    </tr>\n",
       "    <tr>\n",
       "      <th>1095085</th>\n",
       "      <td>346900</td>\n",
       "      <td>AdVenture Capitalist</td>\n",
       "      <td>34</td>\n",
       "    </tr>\n",
       "    <tr>\n",
       "      <th>1095086</th>\n",
       "      <td>377160</td>\n",
       "      <td>Fallout 4</td>\n",
       "      <td>6198</td>\n",
       "    </tr>\n",
       "  </tbody>\n",
       "</table>\n",
       "</div>"
      ],
      "text/plain": [
       "         Item_Id                                     Item_Name  \\\n",
       "1095082   209650                Call of Duty: Advanced Warfare   \n",
       "1095083   209660  Call of Duty: Advanced Warfare - Multiplayer   \n",
       "1095084   346180                                        David.   \n",
       "1095085   346900                          AdVenture Capitalist   \n",
       "1095086   377160                                     Fallout 4   \n",
       "\n",
       "         Playtime_Forever  \n",
       "1095082               860  \n",
       "1095083              1440  \n",
       "1095084                 4  \n",
       "1095085                34  \n",
       "1095086              6198  "
      ]
     },
     "execution_count": 55,
     "metadata": {},
     "output_type": "execute_result"
    }
   ],
   "source": [
    "df_items2.head()"
   ]
  },
  {
   "cell_type": "code",
   "execution_count": 56,
   "metadata": {},
   "outputs": [],
   "source": [
    "#UNION\n",
    "\n",
    "# Selecciona las columnas que deseas de cada DataFrame\n",
    "parte2_subset = parte2[['Item_Id', 'Release_Date', 'Genres']]\n",
    "df_items2_subset = df_items2[['Item_Id', 'Playtime_Forever']]\n",
    "\n",
    "# Realiza la unión (merge) en base a la columna 'Item_Id'\n",
    "\n",
    "df_resultado2 = parte2_subset.merge(df_items2_subset, on='Item_Id', how='inner')\n",
    "\n",
    "# df_resultado ahora contendrá las columnas 'Item_Id', 'Release_Date', 'Genres' y 'Playtime_Forever'"
   ]
  },
  {
   "cell_type": "code",
   "execution_count": 57,
   "metadata": {},
   "outputs": [],
   "source": [
    "# GUARDAR EN CSV\n",
    "\n",
    "df_resultado2.to_csv('df_consulta2_a.csv', index=False)  \n",
    "# El argumento index=False evita que se guarde el índice en el archivo"
   ]
  },
  {
   "cell_type": "markdown",
   "metadata": {},
   "source": [
    "Consulta 2 - Parte 1"
   ]
  },
  {
   "cell_type": "code",
   "execution_count": 58,
   "metadata": {},
   "outputs": [
    {
     "data": {
      "text/html": [
       "<div>\n",
       "<style scoped>\n",
       "    .dataframe tbody tr th:only-of-type {\n",
       "        vertical-align: middle;\n",
       "    }\n",
       "\n",
       "    .dataframe tbody tr th {\n",
       "        vertical-align: top;\n",
       "    }\n",
       "\n",
       "    .dataframe thead th {\n",
       "        text-align: right;\n",
       "    }\n",
       "</style>\n",
       "<table border=\"1\" class=\"dataframe\">\n",
       "  <thead>\n",
       "    <tr style=\"text-align: right;\">\n",
       "      <th></th>\n",
       "      <th>User_Id</th>\n",
       "      <th>Item_Id</th>\n",
       "      <th>Recommend</th>\n",
       "      <th>Review</th>\n",
       "      <th>Genres</th>\n",
       "      <th>App_Name</th>\n",
       "      <th>Release_Date</th>\n",
       "    </tr>\n",
       "  </thead>\n",
       "  <tbody>\n",
       "    <tr>\n",
       "      <th>0</th>\n",
       "      <td>76561198055968900</td>\n",
       "      <td>327950</td>\n",
       "      <td>True</td>\n",
       "      <td>To be honest I really liked this game! It's re...</td>\n",
       "      <td>Adventure, Simulation</td>\n",
       "      <td>Sword of the Samurai</td>\n",
       "      <td>1989</td>\n",
       "    </tr>\n",
       "    <tr>\n",
       "      <th>1</th>\n",
       "      <td>alyboxie</td>\n",
       "      <td>32340</td>\n",
       "      <td>True</td>\n",
       "      <td>This is a beautiful game and a masterpiece in ...</td>\n",
       "      <td>Adventure</td>\n",
       "      <td>LOOM™</td>\n",
       "      <td>1990</td>\n",
       "    </tr>\n",
       "    <tr>\n",
       "      <th>2</th>\n",
       "      <td>FDAOP</td>\n",
       "      <td>9180</td>\n",
       "      <td>True</td>\n",
       "      <td>Commander Keen. Many of us have played this ga...</td>\n",
       "      <td>Action</td>\n",
       "      <td>Commander Keen</td>\n",
       "      <td>1990</td>\n",
       "    </tr>\n",
       "    <tr>\n",
       "      <th>3</th>\n",
       "      <td>76561198074645000</td>\n",
       "      <td>9180</td>\n",
       "      <td>False</td>\n",
       "      <td>it sucks balls.com</td>\n",
       "      <td>Action</td>\n",
       "      <td>Commander Keen</td>\n",
       "      <td>1990</td>\n",
       "    </tr>\n",
       "    <tr>\n",
       "      <th>4</th>\n",
       "      <td>76561198091490600</td>\n",
       "      <td>9180</td>\n",
       "      <td>True</td>\n",
       "      <td>love this</td>\n",
       "      <td>Action</td>\n",
       "      <td>Commander Keen</td>\n",
       "      <td>1990</td>\n",
       "    </tr>\n",
       "  </tbody>\n",
       "</table>\n",
       "</div>"
      ],
      "text/plain": [
       "             User_Id  Item_Id  Recommend  \\\n",
       "0  76561198055968900   327950       True   \n",
       "1           alyboxie    32340       True   \n",
       "2              FDAOP     9180       True   \n",
       "3  76561198074645000     9180      False   \n",
       "4  76561198091490600     9180       True   \n",
       "\n",
       "                                              Review                 Genres  \\\n",
       "0  To be honest I really liked this game! It's re...  Adventure, Simulation   \n",
       "1  This is a beautiful game and a masterpiece in ...              Adventure   \n",
       "2  Commander Keen. Many of us have played this ga...                 Action   \n",
       "3                                 it sucks balls.com                 Action   \n",
       "4                                          love this                 Action   \n",
       "\n",
       "               App_Name Release_Date  \n",
       "0  Sword of the Samurai         1989  \n",
       "1                 LOOM™         1990  \n",
       "2        Commander Keen         1990  \n",
       "3        Commander Keen         1990  \n",
       "4        Commander Keen         1990  "
      ]
     },
     "execution_count": 58,
     "metadata": {},
     "output_type": "execute_result"
    }
   ],
   "source": [
    "df_1y2.head()"
   ]
  },
  {
   "cell_type": "code",
   "execution_count": 59,
   "metadata": {},
   "outputs": [],
   "source": [
    "# Suponiendo que tienes dos DataFrames parte1 y df_items1\n",
    "\n",
    "# Selecciona las columnas que deseas de cada DataFrame\n",
    "parte1_subset = parte1[['Item_Id', 'User_Id', 'Release_Date', 'Genres']]\n",
    "df_items1_subset = df_items1[['Item_Id', 'Playtime_Forever']]\n",
    "\n",
    "# Realiza la unión (merge) en base a la columna 'Item_Id'\n",
    "\n",
    "df_resultado3 = parte1_subset.merge(df_items1_subset, on='Item_Id', how='inner')\n",
    "\n",
    "# df_resultado ahora contendrá las columnas 'Item_Id', 'Release_Date', 'Genres' y 'Playtime_Forever'"
   ]
  },
  {
   "cell_type": "code",
   "execution_count": 60,
   "metadata": {},
   "outputs": [
    {
     "data": {
      "text/html": [
       "<div>\n",
       "<style scoped>\n",
       "    .dataframe tbody tr th:only-of-type {\n",
       "        vertical-align: middle;\n",
       "    }\n",
       "\n",
       "    .dataframe tbody tr th {\n",
       "        vertical-align: top;\n",
       "    }\n",
       "\n",
       "    .dataframe thead th {\n",
       "        text-align: right;\n",
       "    }\n",
       "</style>\n",
       "<table border=\"1\" class=\"dataframe\">\n",
       "  <thead>\n",
       "    <tr style=\"text-align: right;\">\n",
       "      <th></th>\n",
       "      <th>Item_Id</th>\n",
       "      <th>User_Id</th>\n",
       "      <th>Release_Date</th>\n",
       "      <th>Genres</th>\n",
       "      <th>Playtime_Forever</th>\n",
       "    </tr>\n",
       "  </thead>\n",
       "  <tbody>\n",
       "    <tr>\n",
       "      <th>0</th>\n",
       "      <td>327950</td>\n",
       "      <td>76561198055968900</td>\n",
       "      <td>1989</td>\n",
       "      <td>Adventure, Simulation</td>\n",
       "      <td>24</td>\n",
       "    </tr>\n",
       "    <tr>\n",
       "      <th>1</th>\n",
       "      <td>327950</td>\n",
       "      <td>76561198055968900</td>\n",
       "      <td>1989</td>\n",
       "      <td>Adventure, Simulation</td>\n",
       "      <td>3880</td>\n",
       "    </tr>\n",
       "    <tr>\n",
       "      <th>2</th>\n",
       "      <td>327950</td>\n",
       "      <td>76561198055968900</td>\n",
       "      <td>1989</td>\n",
       "      <td>Adventure, Simulation</td>\n",
       "      <td>13</td>\n",
       "    </tr>\n",
       "    <tr>\n",
       "      <th>3</th>\n",
       "      <td>327950</td>\n",
       "      <td>76561198055968900</td>\n",
       "      <td>1989</td>\n",
       "      <td>Adventure, Simulation</td>\n",
       "      <td>6</td>\n",
       "    </tr>\n",
       "    <tr>\n",
       "      <th>4</th>\n",
       "      <td>327950</td>\n",
       "      <td>76561198055968900</td>\n",
       "      <td>1989</td>\n",
       "      <td>Adventure, Simulation</td>\n",
       "      <td>3</td>\n",
       "    </tr>\n",
       "  </tbody>\n",
       "</table>\n",
       "</div>"
      ],
      "text/plain": [
       "   Item_Id            User_Id Release_Date                 Genres  \\\n",
       "0   327950  76561198055968900         1989  Adventure, Simulation   \n",
       "1   327950  76561198055968900         1989  Adventure, Simulation   \n",
       "2   327950  76561198055968900         1989  Adventure, Simulation   \n",
       "3   327950  76561198055968900         1989  Adventure, Simulation   \n",
       "4   327950  76561198055968900         1989  Adventure, Simulation   \n",
       "\n",
       "   Playtime_Forever  \n",
       "0                24  \n",
       "1              3880  \n",
       "2                13  \n",
       "3                 6  \n",
       "4                 3  "
      ]
     },
     "execution_count": 60,
     "metadata": {},
     "output_type": "execute_result"
    }
   ],
   "source": [
    "df_resultado3.head()"
   ]
  },
  {
   "cell_type": "code",
   "execution_count": 61,
   "metadata": {},
   "outputs": [],
   "source": [
    "# GUARDAR EN CSV\n",
    "df_resultado3.to_csv('df_consulta2_a.csv', index=False)  \n",
    "# El argumento index=False evita que se guarde el índice en el archivo"
   ]
  },
  {
   "cell_type": "markdown",
   "metadata": {},
   "source": [
    "Consulta 3"
   ]
  },
  {
   "cell_type": "markdown",
   "metadata": {},
   "source": [
    "Convertir Columna "
   ]
  },
  {
   "cell_type": "code",
   "execution_count": 71,
   "metadata": {},
   "outputs": [],
   "source": [
    "import pandas as pd\n",
    "from textblob import TextBlob\n"
   ]
  },
  {
   "cell_type": "code",
   "execution_count": 73,
   "metadata": {},
   "outputs": [],
   "source": [
    "# Aplicar análisis de sentimiento a las reseñas y crear la columna 'sentiment_analysis'\n",
    "df_1y2['Sentiment_Analysis'] = df_1y2['Review'].apply(lambda x: TextBlob(str(x)).sentiment.polarity)\n",
    "\n",
    "# Mapear los valores de la columna a 0, 1 o 2\n",
    "df_1y2['Sentiment_Analysis'] = df_1y2['Sentiment_Analysis'].apply(lambda x: 0 if x < 0 else (1 if x == 0 else 2))\n"
   ]
  },
  {
   "cell_type": "code",
   "execution_count": 75,
   "metadata": {},
   "outputs": [],
   "source": [
    "# Supongamos que tienes un DataFrame llamado user_reviews\n",
    "# y deseas eliminar la columna 'Review'\n",
    "df_1y2.drop(columns=['Review'], inplace=True)"
   ]
  },
  {
   "cell_type": "code",
   "execution_count": null,
   "metadata": {},
   "outputs": [],
   "source": [
    "# Suponiendo que tienes dos DataFrames parte1 y df_items1\n",
    "\n",
    "# Selecciona las columnas que deseas de cada DataFrame\n",
    "parte1_subset = parte1[['', 'User_Id', 'Release_Date', 'Genres']]\n",
    "df_items1_subset = df_items1[['Item_Id', 'Playtime_Forever']]\n",
    "\n",
    "# Realiza la unión (merge) en base a la columna 'Item_Id'\n",
    "\n",
    "df_resultado3 = parte1_subset.merge(df_items1_subset, on='Item_Id', how='inner')\n",
    "\n",
    "# df_resultado ahora contendrá las columnas 'Item_Id', 'Release_Date', 'Genres' y 'Playtime_Forever'"
   ]
  },
  {
   "cell_type": "code",
   "execution_count": 77,
   "metadata": {},
   "outputs": [],
   "source": [
    "import pandas as pd\n",
    "\n",
    "# Supongamos que tienes un DataFrame llamado df que deseas dividir en tres partes\n",
    "# El número total de filas en tu DataFrame\n",
    "total_filas = len(df_1y2)\n",
    "\n",
    "# Divide el DataFrame en tres partes aproximadamente iguales\n",
    "df_1y2_a = df_1y2.iloc[:total_filas // 3]\n",
    "df_1y2_b = df_1y2.iloc[total_filas // 3: 2 * (total_filas // 3)]\n",
    "df_1y2_c = df_1y2.iloc[2 * (total_filas // 3):]\n",
    "\n",
    "# Ahora tienes tres DataFrames: parte1, parte2 y parte3, que contienen partes aproximadamente iguales de tu DataFrame original\n"
   ]
  },
  {
   "cell_type": "code",
   "execution_count": 78,
   "metadata": {},
   "outputs": [],
   "source": [
    "# Transformar la columna Recommend y la columna que deseas transformar se llama 'columna_booleana'\n",
    "df_1y2['Recommend'] = df_1y2['Recommend'].astype(int)"
   ]
  },
  {
   "cell_type": "markdown",
   "metadata": {},
   "source": [
    "App name (juegos) + reviews.recommend + sentiment_analysis"
   ]
  },
  {
   "cell_type": "code",
   "execution_count": 80,
   "metadata": {},
   "outputs": [],
   "source": [
    "# Hacer un dataframe solo con la información necesaria\n",
    "# y deseas seleccionar las columnas 'Recommend', 'App_Name', y 'Sentiment_Analysis'\n",
    "columnas_deseadas = ['Recommend', 'App_Name', 'Sentiment_Analysis']\n",
    "df_consulta3 = df_1y2[columnas_deseadas]"
   ]
  },
  {
   "cell_type": "code",
   "execution_count": 81,
   "metadata": {},
   "outputs": [
    {
     "data": {
      "text/html": [
       "<div>\n",
       "<style scoped>\n",
       "    .dataframe tbody tr th:only-of-type {\n",
       "        vertical-align: middle;\n",
       "    }\n",
       "\n",
       "    .dataframe tbody tr th {\n",
       "        vertical-align: top;\n",
       "    }\n",
       "\n",
       "    .dataframe thead th {\n",
       "        text-align: right;\n",
       "    }\n",
       "</style>\n",
       "<table border=\"1\" class=\"dataframe\">\n",
       "  <thead>\n",
       "    <tr style=\"text-align: right;\">\n",
       "      <th></th>\n",
       "      <th>Recommend</th>\n",
       "      <th>App_Name</th>\n",
       "      <th>Sentiment_Analysis</th>\n",
       "    </tr>\n",
       "  </thead>\n",
       "  <tbody>\n",
       "    <tr>\n",
       "      <th>0</th>\n",
       "      <td>1</td>\n",
       "      <td>Sword of the Samurai</td>\n",
       "      <td>2</td>\n",
       "    </tr>\n",
       "    <tr>\n",
       "      <th>1</th>\n",
       "      <td>1</td>\n",
       "      <td>LOOM™</td>\n",
       "      <td>2</td>\n",
       "    </tr>\n",
       "    <tr>\n",
       "      <th>2</th>\n",
       "      <td>1</td>\n",
       "      <td>Commander Keen</td>\n",
       "      <td>2</td>\n",
       "    </tr>\n",
       "    <tr>\n",
       "      <th>3</th>\n",
       "      <td>0</td>\n",
       "      <td>Commander Keen</td>\n",
       "      <td>0</td>\n",
       "    </tr>\n",
       "    <tr>\n",
       "      <th>4</th>\n",
       "      <td>1</td>\n",
       "      <td>Commander Keen</td>\n",
       "      <td>2</td>\n",
       "    </tr>\n",
       "  </tbody>\n",
       "</table>\n",
       "</div>"
      ],
      "text/plain": [
       "   Recommend              App_Name  Sentiment_Analysis\n",
       "0          1  Sword of the Samurai                   2\n",
       "1          1                 LOOM™                   2\n",
       "2          1        Commander Keen                   2\n",
       "3          0        Commander Keen                   0\n",
       "4          1        Commander Keen                   2"
      ]
     },
     "execution_count": 81,
     "metadata": {},
     "output_type": "execute_result"
    }
   ],
   "source": [
    "df_consulta3.head()"
   ]
  },
  {
   "cell_type": "code",
   "execution_count": 82,
   "metadata": {},
   "outputs": [],
   "source": [
    "# GUARDAR EN CSV\n",
    "df_consulta3.to_csv('df_consulta3.csv', index=False)  \n",
    "# El argumento index=False evita que se guarde el índice en el archivo"
   ]
  },
  {
   "cell_type": "markdown",
   "metadata": {},
   "source": [
    "Consulta 4: Top 3 de juegos menos recomendados: App name (juegos) + reviews.recommend "
   ]
  },
  {
   "cell_type": "code",
   "execution_count": null,
   "metadata": {},
   "outputs": [],
   "source": [
    "#USAR DATAFRAME CONSULTA 3 "
   ]
  },
  {
   "cell_type": "markdown",
   "metadata": {},
   "source": [
    "Consulta 5: Año de lanzamiento + sentiment_analysis (lista)"
   ]
  },
  {
   "cell_type": "code",
   "execution_count": 83,
   "metadata": {},
   "outputs": [],
   "source": [
    "# Hacer un dataframe solo con la información necesaria\n",
    "# y deseas seleccionar las columnas 'Recommend', 'App_Name', y 'Sentiment_Analysis'\n",
    "columnas_deseadas1 = ['App_Name', 'Sentiment_Analysis']\n",
    "df_consulta5 = df_1y2[columnas_deseadas1]"
   ]
  },
  {
   "cell_type": "code",
   "execution_count": 85,
   "metadata": {},
   "outputs": [],
   "source": [
    "# GUARDAR EN CSV\n",
    "df_consulta5.to_csv('df_consulta5.csv', index=False)  \n",
    "# El argumento index=False evita que se guarde el índice en el archivo"
   ]
  }
 ],
 "metadata": {
  "kernelspec": {
   "display_name": "Python 3",
   "language": "python",
   "name": "python3"
  },
  "language_info": {
   "codemirror_mode": {
    "name": "ipython",
    "version": 3
   },
   "file_extension": ".py",
   "mimetype": "text/x-python",
   "name": "python",
   "nbconvert_exporter": "python",
   "pygments_lexer": "ipython3",
   "version": "3.10.11"
  },
  "orig_nbformat": 4
 },
 "nbformat": 4,
 "nbformat_minor": 2
}
