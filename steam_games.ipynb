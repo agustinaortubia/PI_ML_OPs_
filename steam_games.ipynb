{
 "cells": [
  {
   "cell_type": "code",
   "execution_count": null,
   "metadata": {},
   "outputs": [],
   "source": [
    "'''\n",
    "-Bajé la app WinRaR\n",
    "-Abrí el archivo como libro de notas para ver cómo estaba conformado\n",
    "'''"
   ]
  },
  {
   "cell_type": "code",
   "execution_count": 1,
   "metadata": {},
   "outputs": [],
   "source": [
    "import pandas as pd\n",
    "import json\n",
    "\n",
    "#ABRIR ARCHIVO DESCOMPRIMIDO PREVIAMENTE CON WINRAR\n",
    "# Crear una lista para almacenar los objetos JSON\n",
    "datos_games = []\n",
    "\n",
    "# Abre el archivo JSON en modo lectura\n",
    "with open('C:/Users/Susana y Juan/OneDrive/Escritorio/Henry/PI_ML_OPS/Archivos/output_steam_games.json', 'r') as archivo_games1:\n",
    "    for linea in archivo_games1:\n",
    "        # Carga y procesa cada línea como un objeto JSON\n",
    "        objeto_games = json.loads(linea)\n",
    "        datos_games.append(objeto_games)\n",
    "\n",
    "df_output_steam_games = pd.DataFrame(datos_games)"
   ]
  },
  {
   "cell_type": "code",
   "execution_count": 16,
   "metadata": {},
   "outputs": [],
   "source": [
    "# POSEÍA MUCHAS FILAS TOTALMENTE VACIAS \n",
    "\n",
    "# Elimina filas con valores NaN en todas las columnas\n",
    "df_cleaned = df_output_steam_games.dropna(how='all')"
   ]
  },
  {
   "cell_type": "code",
   "execution_count": 22,
   "metadata": {},
   "outputs": [
    {
     "name": "stdout",
     "output_type": "stream",
     "text": [
      "Porcentaje de valores nulos en la columna id: 0.01%\n"
     ]
    }
   ],
   "source": [
    "#PORCENTAJE DE REGISTROS VACIOS EN UNA COLUMNA\n",
    "\n",
    "# Reemplazar el nombre de 'Nombre_Columna' con el nombre de la columna que deseas analizar\n",
    "nombre_columna = 'id'\n",
    "\n",
    "# Calcular el porcentaje de valores nulos en la columna\n",
    "porcentaje_null = (df_cleaned['id'].isnull().sum() / len(df_cleaned)) * 100\n",
    "\n",
    "# Mostrar el porcentaje\n",
    "print(f'Porcentaje de valores nulos en la columna {nombre_columna}: {porcentaje_null:.2f}%')"
   ]
  },
  {
   "cell_type": "code",
   "execution_count": 28,
   "metadata": {},
   "outputs": [
    {
     "name": "stdout",
     "output_type": "stream",
     "text": [
      "publisher       8052\n",
      "genres           139\n",
      "app_name           2\n",
      "title           2050\n",
      "url                0\n",
      "release_date    2067\n",
      "tags             163\n",
      "reviews_url        2\n",
      "specs            670\n",
      "price           1377\n",
      "early_access       0\n",
      "id                 2\n",
      "developer       3299\n",
      "dtype: int64\n"
     ]
    }
   ],
   "source": [
    "#CANTIDAD DE NULOS EN TODAS LAS FILAS\n",
    "\n",
    "\n",
    "# Obtener la cantidad de registros vacíos por columna\n",
    "registros_vacios_por_columna = df_cleaned.isnull().sum()\n",
    "\n",
    "# Mostrar el resultado\n",
    "print(registros_vacios_por_columna)"
   ]
  },
  {
   "cell_type": "code",
   "execution_count": 13,
   "metadata": {},
   "outputs": [],
   "source": [
    "#SE RELLENÓ LOS REGISTROS VACÍOS DE 'genre' CON LOS DATOS DE LA COLUMNA 'tags' (\n",
    "# PARA EVITAR ELIMINAR INFORMACIÓN Y POR QUE LOS DATOS ERAN SIMILARES)\n",
    "\n",
    "# Crea una máscara booleana para identificar filas con 'genre' vacío\n",
    "mask = df_output_steam_games['genres'].isnull()\n",
    "\n",
    "# Copia los valores de 'tags' a 'genre' solo en las filas donde 'genre' está vacío\n",
    "df_output_steam_games.loc[mask, 'genres'] = df_output_steam_games['tags']\n",
    "\n",
    "# Ahora 'genre' tendrá los valores de 'tags' en las filas donde 'genre' estaba vacío\n"
   ]
  },
  {
   "cell_type": "code",
   "execution_count": 34,
   "metadata": {},
   "outputs": [],
   "source": [
    "#ELIMINAR COLUMNA\n",
    "\n",
    "df_cleaned = df_cleaned.drop('tags', axis=1)\n",
    "\n",
    "df_cleaned = df_cleaned.drop('title', axis=1)\n",
    "\n",
    "df_cleaned = df_cleaned.drop('url', axis=1)\n",
    "\n",
    "df_cleaned = df_cleaned.drop('early_access', axis=1)\n",
    "\n",
    "df_cleaned = df_cleaned.drop('reviews_url', axis=1)\n",
    "\n",
    "df_cleaned = df_cleaned.drop('price', axis=1)\n",
    "\n",
    "df_cleaned = df_cleaned.drop('specs', axis=1)\n"
   ]
  },
  {
   "cell_type": "code",
   "execution_count": 46,
   "metadata": {},
   "outputs": [],
   "source": [
    "# GUARDAR EN ARCHIVO CSV\n",
    "df_cleaned.to_csv('steam_games.csv', index=False)  # El argumento index=False evita que se guarde el índice en el archivo"
   ]
  }
 ],
 "metadata": {
  "kernelspec": {
   "display_name": "Python 3",
   "language": "python",
   "name": "python3"
  },
  "language_info": {
   "codemirror_mode": {
    "name": "ipython",
    "version": 3
   },
   "file_extension": ".py",
   "mimetype": "text/x-python",
   "name": "python",
   "nbconvert_exporter": "python",
   "pygments_lexer": "ipython3",
   "version": "3.10.11"
  },
  "orig_nbformat": 4
 },
 "nbformat": 4,
 "nbformat_minor": 2
}
